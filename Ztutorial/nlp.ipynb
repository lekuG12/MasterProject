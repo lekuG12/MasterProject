{
 "cells": [
  {
   "cell_type": "code",
   "execution_count": null,
   "metadata": {},
   "outputs": [],
   "source": [
    "import pandas as pd\n",
    "from huggingface_hub import notebook_login\n",
    "import tens"
   ]
  },
  {
   "cell_type": "code",
   "execution_count": 2,
   "metadata": {},
   "outputs": [
    {
     "data": {
      "text/html": [
       "<div>\n",
       "<style scoped>\n",
       "    .dataframe tbody tr th:only-of-type {\n",
       "        vertical-align: middle;\n",
       "    }\n",
       "\n",
       "    .dataframe tbody tr th {\n",
       "        vertical-align: top;\n",
       "    }\n",
       "\n",
       "    .dataframe thead th {\n",
       "        text-align: right;\n",
       "    }\n",
       "</style>\n",
       "<table border=\"1\" class=\"dataframe\">\n",
       "  <thead>\n",
       "    <tr style=\"text-align: right;\">\n",
       "      <th></th>\n",
       "      <th>conversation_id</th>\n",
       "      <th>role</th>\n",
       "      <th>text</th>\n",
       "      <th>intent</th>\n",
       "      <th>response_type</th>\n",
       "    </tr>\n",
       "  </thead>\n",
       "  <tbody>\n",
       "    <tr>\n",
       "      <th>0</th>\n",
       "      <td>1</td>\n",
       "      <td>user</td>\n",
       "      <td>How do I introduce my baby to new foods?</td>\n",
       "      <td>nutrition</td>\n",
       "      <td>directive</td>\n",
       "    </tr>\n",
       "    <tr>\n",
       "      <th>1</th>\n",
       "      <td>1</td>\n",
       "      <td>assistant</td>\n",
       "      <td>Introduce one new food at a time and watch for...</td>\n",
       "      <td>nutrition</td>\n",
       "      <td>directive</td>\n",
       "    </tr>\n",
       "    <tr>\n",
       "      <th>2</th>\n",
       "      <td>2</td>\n",
       "      <td>user</td>\n",
       "      <td>How often should newborns eat?</td>\n",
       "      <td>newborn_care</td>\n",
       "      <td>directive</td>\n",
       "    </tr>\n",
       "    <tr>\n",
       "      <th>3</th>\n",
       "      <td>2</td>\n",
       "      <td>assistant</td>\n",
       "      <td>Every 2-3 hours, including at night, whether b...</td>\n",
       "      <td>newborn_care</td>\n",
       "      <td>directive</td>\n",
       "    </tr>\n",
       "    <tr>\n",
       "      <th>4</th>\n",
       "      <td>3</td>\n",
       "      <td>user</td>\n",
       "      <td>How do I burp my baby properly?</td>\n",
       "      <td>newborn_care</td>\n",
       "      <td>directive</td>\n",
       "    </tr>\n",
       "  </tbody>\n",
       "</table>\n",
       "</div>"
      ],
      "text/plain": [
       "   conversation_id       role  \\\n",
       "0                1       user   \n",
       "1                1  assistant   \n",
       "2                2       user   \n",
       "3                2  assistant   \n",
       "4                3       user   \n",
       "\n",
       "                                                text        intent  \\\n",
       "0           How do I introduce my baby to new foods?     nutrition   \n",
       "1  Introduce one new food at a time and watch for...     nutrition   \n",
       "2                     How often should newborns eat?  newborn_care   \n",
       "3  Every 2-3 hours, including at night, whether b...  newborn_care   \n",
       "4                    How do I burp my baby properly?  newborn_care   \n",
       "\n",
       "  response_type  \n",
       "0     directive  \n",
       "1     directive  \n",
       "2     directive  \n",
       "3     directive  \n",
       "4     directive  "
      ]
     },
     "execution_count": 2,
     "metadata": {},
     "output_type": "execute_result"
    }
   ],
   "source": [
    "data = pd.read_csv('../Data/ivr_maternal_childcare_large_conversations[1].csv')\n",
    "data.head()"
   ]
  },
  {
   "cell_type": "code",
   "execution_count": null,
   "metadata": {},
   "outputs": [
    {
     "data": {
      "application/vnd.jupyter.widget-view+json": {
       "model_id": "f2c4731e053544eeb475ead71c2f461f",
       "version_major": 2,
       "version_minor": 0
      },
      "text/plain": [
       "VBox(children=(HTML(value='<center> <img\\nsrc=https://huggingface.co/front/assets/huggingface_logo-noborder.sv…"
      ]
     },
     "metadata": {},
     "output_type": "display_data"
    }
   ],
   "source": [
    "train_data = data"
   ]
  },
  {
   "cell_type": "code",
   "execution_count": null,
   "metadata": {},
   "outputs": [],
   "source": []
  }
 ],
 "metadata": {
  "kernelspec": {
   "display_name": "Venv",
   "language": "python",
   "name": "python3"
  },
  "language_info": {
   "codemirror_mode": {
    "name": "ipython",
    "version": 3
   },
   "file_extension": ".py",
   "mimetype": "text/x-python",
   "name": "python",
   "nbconvert_exporter": "python",
   "pygments_lexer": "ipython3",
   "version": "3.11.5"
  }
 },
 "nbformat": 4,
 "nbformat_minor": 2
}
